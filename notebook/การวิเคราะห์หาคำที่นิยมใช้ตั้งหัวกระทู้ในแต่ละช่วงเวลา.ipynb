{
 "cells": [
  {
   "cell_type": "markdown",
   "metadata": {},
   "source": [
    "# Import all dependencies"
   ]
  },
  {
   "cell_type": "code",
   "execution_count": 1,
   "metadata": {},
   "outputs": [
    {
     "name": "stderr",
     "output_type": "stream",
     "text": [
      "Using TensorFlow backend.\n"
     ]
    },
    {
     "data": {
      "text/plain": [
       "'/Users/supakornbabe/Social_Networks_Data_Mining/Proj/notebook'"
      ]
     },
     "execution_count": 1,
     "metadata": {},
     "output_type": "execute_result"
    }
   ],
   "source": [
    "# Import system dependencies\n",
    "import sys\n",
    "import os\n",
    "\n",
    "# import json dependencies\n",
    "import json\n",
    "\n",
    "# import pandas and plotter\n",
    "import matplotlib.pyplot as plt\n",
    "import pandas as pd\n",
    "from datetime import datetime\n",
    "\n",
    "# import everything about NLP in thai\n",
    "import pythainlp\n",
    "from pythainlp.corpus import stopwords\n",
    "import deepcut\n",
    "\n",
    "# os.chdir(os.path.join(os.getcwd(), '../data/processed_except'))\n",
    "os.getcwd()"
   ]
  },
  {
   "cell_type": "markdown",
   "metadata": {},
   "source": [
    "## อ่านไฟล์ JSON จาก path ที่กำหนด"
   ]
  },
  {
   "cell_type": "code",
   "execution_count": 2,
   "metadata": {},
   "outputs": [],
   "source": [
    "def read_file(path):\n",
    "    data = []\n",
    "    file = open(path, \"r\")\n",
    "    count = 0\n",
    "    for line in file:\n",
    "        try:\n",
    "            if (line == '\\n'):      # skip empty lines\n",
    "                continue\n",
    "            count = count + 1\n",
    "            data.append(json.loads(line))\n",
    "            if count % 100 == 0:\n",
    "                sys.stdout.write('.')\n",
    "            if count % 7000 == 0:\n",
    "                sys.stdout.write('\\n')\n",
    "        except Exception as e:\n",
    "            print(e)\n",
    "            continue\n",
    "    print(f\"\\n{count} line read.\")\n",
    "    df = pd.DataFrame.from_dict(data)\n",
    "    return df"
   ]
  },
  {
   "cell_type": "markdown",
   "metadata": {},
   "source": [
    "## ตัดคำและคัดเฉพาะคำที่เกี่ยวข้องแล้วนับจำนวณครั้งที่เกิด"
   ]
  },
  {
   "cell_type": "code",
   "execution_count": 3,
   "metadata": {},
   "outputs": [],
   "source": [
    "def count_word(df,from_date,to_date):\n",
    "    words = {}\n",
    "    count=0\n",
    "    thai_symbols = 'กขฃคฅฆงจฉชซฌญฎฏฐฑฒณดตถทธนบปผฝพฟภมยรลวศษสหฬอฮฤฦะัาำิีึืุูเแโใไๅ็่้๊๋ฯๆฺ์ํ๎๏๚๛๐๑๒๓๔๕๖๗๘๙฿'\n",
    "    symbols = \"!@#$%^&*()_+=-[]{}\\|;:',./<>\\\"?1234567890qwertyuiopasdfghjklzxcvbnmQWERTYUIOPLKJHGFDSAZXCVBNM\"\n",
    "    thai_stopwords = stopwords.words('thai')\n",
    "    for title in df['title']:\n",
    "        count+=1\n",
    "        for word in pythainlp.word_tokenize(title, engine='deepcut', whitespaces=False):\n",
    "            if len(word) ==1:\n",
    "                continue\n",
    "            if word in symbols:\n",
    "                continue\n",
    "            if word in thai_stopwords:\n",
    "                continue\n",
    "            if word in thai_symbols:\n",
    "                continue\n",
    "            if word not in words:\n",
    "                words[word] = 1\n",
    "            else:\n",
    "                words[word] +=1\n",
    "                \n",
    "    dwords = pd.DataFrame(words.items(), columns=['Word', 'Count'])\n",
    "    dwords.sort_values(by='Count',ascending=False,inplace=True)\n",
    "    \n",
    "    dwords=dwords[dwords.Word != '...']\n",
    "    dwords=dwords[dwords.Word != 'นี้']\n",
    "    dwords=dwords[dwords.Word != '##']\n",
    "    dwords=dwords[dwords.Word != '###']\n",
    "    dwords=dwords[dwords.Word != '####']\n",
    "    dwords=dwords[dwords.Word != '#####']\n",
    "    dwords=dwords[dwords.Word != 'quot']\n",
    "    dwords=dwords[dwords.Word != 'lt']\n",
    "    dwords=dwords[dwords.Word != 'gt']\n",
    "    dwords=dwords[dwords.Word != 'OElig']\n",
    "    dwords=dwords[dwords.Word != 'oelig']\n",
    "    dwords=dwords[dwords.Word != 'Scaron']\n",
    "    dwords=dwords[dwords.Word != 'scaron']\n",
    "    dwords=dwords[dwords.Word != 'Yuml']\n",
    "    dwords=dwords[dwords.Word != 'circ']\n",
    "    dwords=dwords[dwords.Word != 'tilde']\n",
    "    dwords=dwords[dwords.Word != 'ensp']\n",
    "    dwords=dwords[dwords.Word != 'emsp']\n",
    "    dwords=dwords[dwords.Word != 'thinsp']\n",
    "    dwords=dwords[dwords.Word != 'zwnj']\n",
    "    dwords=dwords[dwords.Word != 'zwj']\n",
    "    dwords=dwords[dwords.Word != 'lrm']\n",
    "    dwords=dwords[dwords.Word != 'rlm']\n",
    "    dwords=dwords[dwords.Word != 'ndash']\n",
    "    dwords=dwords[dwords.Word != 'mdash']\n",
    "    dwords=dwords[dwords.Word != 'lsquo']\n",
    "    dwords=dwords[dwords.Word != 'rsquo']\n",
    "    dwords=dwords[dwords.Word != 'sbquo']\n",
    "    dwords=dwords[dwords.Word != 'ldquo']\n",
    "    dwords=dwords[dwords.Word != 'rdquo']\n",
    "    dwords=dwords[dwords.Word != 'bdquo']\n",
    "    dwords=dwords[dwords.Word != 'dagger']\n",
    "    dwords=dwords[dwords.Word != 'Dagger']\n",
    "    dwords=dwords[dwords.Word != 'permil']\n",
    "    dwords=dwords[dwords.Word != 'lsaquo']\n",
    "    dwords=dwords[dwords.Word != 'rsaquo']\n",
    "    dwords=dwords[dwords.Word != 'euro']\n",
    "\n",
    "    file_name = '../data/word_count_'+from_date+'_'+to_date+'.csv'\n",
    "    dwords.to_csv (file_name, index = None, header=True)    \n",
    "    return dwords"
   ]
  },
  {
   "cell_type": "markdown",
   "metadata": {},
   "source": [
    "## ดึงคำและจำนวณที่เกิดเฉพาะจำนวณ n ตัวแรก"
   ]
  },
  {
   "cell_type": "code",
   "execution_count": 4,
   "metadata": {},
   "outputs": [],
   "source": [
    "def get_word_count_list(df,start=0,stop=10):\n",
    "    Counts = df.Count[start:stop]\n",
    "    Counts = list(Counts)\n",
    "    \n",
    "    Words = df.Word[start:stop]\n",
    "    Words = list(Words)\n",
    "    return Words,Counts"
   ]
  },
  {
   "cell_type": "markdown",
   "metadata": {},
   "source": [
    "## Plot และสร้างไฟล์รูป"
   ]
  },
  {
   "cell_type": "code",
   "execution_count": 5,
   "metadata": {},
   "outputs": [],
   "source": [
    "def plot(x,y,from_date,to_date):\n",
    "    print(x)\n",
    "    print(y)\n",
    "\n",
    "    width = 0.6\n",
    "    fig, ax = plt.subplots()\n",
    "    plt.bar(x, y, width, alpha=1, color='g')\n",
    "\n",
    "    # Setting axis labels and ticks\n",
    "    ax.set_ylabel('จำนวณครั้ง', fontsize=15)\n",
    "    ax.set_title('จำนวณครั้งของคำที่อยู่ในหัวกระทู้ในช่วงวันที่ '+from_date+' ถึงวันที่ '+to_date, fontsize=15, fontweight='bold')\n",
    "    ax.set_xticklabels(x,rotation=90)\n",
    "    plt.grid()\n",
    "\n",
    "    #set font\n",
    "    from matplotlib import rcParams\n",
    "    rcParams['font.family'] = 'sans-serif'\n",
    "    rcParams['font.sans-serif'] = ['Tahoma']\n",
    "    rcParams['font.size'] = 22\n",
    "\n",
    "    # Figure size\n",
    "    fig.set_size_inches(18.5, 10.5)\n",
    "    file_name = '../data/word_count_'+from_date+'_'+to_date+'.png'\n",
    "    fig.savefig(file_name, dpi=80)\n"
   ]
  },
  {
   "cell_type": "markdown",
   "metadata": {},
   "source": [
    "### อ่านไฟล์"
   ]
  },
  {
   "cell_type": "code",
   "execution_count": 6,
   "metadata": {},
   "outputs": [
    {
     "name": "stdout",
     "output_type": "stream",
     "text": [
      "......................................................................\n",
      "......................................................................\n",
      "......................................................................\n",
      "......................................................................\n",
      "......................................................................\n",
      "......................................................................\n",
      "......................................................................\n",
      "......................................................................\n",
      "......................................................................\n",
      "......................................................................\n",
      "......................................................................\n",
      "......................................................................\n",
      "......................................................................\n",
      "......................................................................\n",
      "......................................................................\n",
      "......................................................................\n",
      "......................................................................\n",
      "......................................................................\n",
      "......................................................................\n",
      "......................................................................\n",
      "......................................................................\n",
      "......................................................................\n",
      "......................................................................\n",
      "......................................................................\n",
      "......................................................................\n",
      "......................................................................\n",
      "......................................................................\n",
      "......................................................................\n",
      "......................................................................\n",
      "......................................................................\n",
      "......................................................................\n",
      "......................................................................\n",
      "......................................................................\n",
      "......................................................................\n",
      "......................................................................\n",
      "......................................................................\n",
      "......................................................................\n",
      "......................................................................\n",
      "......................................................................\n",
      "...................\n",
      "274971 line read.\n"
     ]
    }
   ],
   "source": [
    "df = read_file('../data/all_topic_string.json')\n",
    "df.date = pd.to_datetime(df.date)"
   ]
  },
  {
   "cell_type": "markdown",
   "metadata": {},
   "source": [
    "### คัดเฉพาะวันที่ต้องการ"
   ]
  },
  {
   "cell_type": "code",
   "execution_count": 7,
   "metadata": {},
   "outputs": [
    {
     "name": "stdout",
     "output_type": "stream",
     "text": [
      "(986, 4)\n"
     ]
    }
   ],
   "source": [
    "from_date = '2016-12-27'\n",
    "to_date = '2017-01-04'\n",
    "mask = (df['date'] > from_date) & (df['date'] <= to_date)\n",
    "df_BTW_input_date = df.loc[mask]\n",
    "print(df_BTW_input_date.shape)"
   ]
  },
  {
   "cell_type": "markdown",
   "metadata": {},
   "source": [
    "### ตัดคำและนับคำที่เกิดในหัวข้อกระทู้"
   ]
  },
  {
   "cell_type": "code",
   "execution_count": 8,
   "metadata": {},
   "outputs": [
    {
     "name": "stdout",
     "output_type": "stream",
     "text": [
      "WARNING:tensorflow:From /Users/supakornbabe/anaconda3/envs/Social_data_mining/lib/python3.7/site-packages/tensorflow/python/framework/op_def_library.py:263: colocate_with (from tensorflow.python.framework.ops) is deprecated and will be removed in a future version.\n",
      "Instructions for updating:\n",
      "Colocations handled automatically by placer.\n",
      "WARNING:tensorflow:From /Users/supakornbabe/anaconda3/envs/Social_data_mining/lib/python3.7/site-packages/keras/backend/tensorflow_backend.py:3445: calling dropout (from tensorflow.python.ops.nn_ops) with keep_prob is deprecated and will be removed in a future version.\n",
      "Instructions for updating:\n",
      "Please use `rate` instead of `keep_prob`. Rate should be set to `rate = 1 - keep_prob`.\n"
     ]
    }
   ],
   "source": [
    "word_count = count_word(df_BTW_input_date,from_date,to_date)"
   ]
  },
  {
   "cell_type": "markdown",
   "metadata": {},
   "source": [
    "### ตัดเฉพาะ n ตัวแรก และนำไป Plot"
   ]
  },
  {
   "cell_type": "code",
   "execution_count": 9,
   "metadata": {},
   "outputs": [
    {
     "name": "stdout",
     "output_type": "stream",
     "text": [
      "['CR', 'เที่ยว', 'ดี', 'รถ', 'สอบถาม', 'คน', 'ไหม', 'คืน', 'พัก', 'ตอน', 'เดินทาง', 'ปี', 'แนะนำ', 'ญี่ปุ่น', 'รีวิว', 'ทำ', 'ตัว', 'ไทย', 'หนาว', 'ซื้อ', 'นั่ง', 'เชียงใหม่', 'ถาม', 'รบกวน', 'เส้นทาง', 'เรื่อง', 'รถไฟ', 'เมือง', 'งาน', 'เดิน']\n",
      "[234, 156, 95, 87, 70, 67, 63, 61, 59, 47, 46, 45, 44, 41, 39, 37, 34, 33, 31, 30, 30, 28, 28, 27, 27, 27, 27, 26, 25, 25]\n"
     ]
    },
    {
     "data": {
      "image/png": "[encoded data removed]",
      "text/plain": [
       "<Figure size 1332x756 with 1 Axes>"
      ]
     },
     "metadata": {
      "needs_background": "light"
     },
     "output_type": "display_data"
    }
   ],
   "source": [
    "x,y = get_word_count_list(df = word_count,stop=30)\n",
    "plot(x,y,from_date,to_date)"
   ]
  }
 ],
 "metadata": {
  "kernelspec": {
   "display_name": "Python 3",
   "language": "python",
   "name": "python3"
  },
  "language_info": {
   "codemirror_mode": {
    "name": "ipython",
    "version": 3
   },
   "file_extension": ".py",
   "mimetype": "text/x-python",
   "name": "python",
   "nbconvert_exporter": "python",
   "pygments_lexer": "ipython3",
   "version": "3.7.1"
  }
 },
 "nbformat": 4,
 "nbformat_minor": 2
}
