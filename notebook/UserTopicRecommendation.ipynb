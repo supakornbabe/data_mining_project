{
 "cells": [
  {
   "cell_type": "code",
   "execution_count": 2,
   "metadata": {},
   "outputs": [],
   "source": [
    "import os\n",
    "import numpy as np\n",
    "import networkx as nx\n",
    "import matplotlib.pyplot as plt\n",
    "import pandas as pd\n",
    "\n",
    "%matplotlib inline"
   ]
  },
  {
   "cell_type": "markdown",
   "metadata": {},
   "source": [
    "# Import Graph Data"
   ]
  },
  {
   "cell_type": "code",
   "execution_count": 3,
   "metadata": {},
   "outputs": [],
   "source": [
    "from pathlib import Path\n",
    "\n",
    "path = Path('../data/processed_except/user_topic_filtered.csv').resolve();\n",
    "di_graph = nx.DiGraph()\n",
    "user_set = set()\n",
    "with open(path, 'r') as input_file:\n",
    "    # skip first line\n",
    "    line = input_file.readline().rstrip()\n",
    "    while True:\n",
    "        line = input_file.readline().rstrip()\n",
    "\n",
    "        # EOF\n",
    "        if line == '':\n",
    "            break\n",
    "\n",
    "        splits = line.split(',')\n",
    "        # prevent self-loop\n",
    "        if splits[0] != splits[1]:\n",
    "            user_set.add(splits[1])\n",
    "            di_graph.add_edge(splits[1], splits[0])"
   ]
  },
  {
   "cell_type": "markdown",
   "metadata": {},
   "source": [
    "#### จับคู่ User เพื่อทำการทดสอบค่า Jaccard Coefficient"
   ]
  },
  {
   "cell_type": "code",
   "execution_count": 4,
   "metadata": {},
   "outputs": [],
   "source": [
    "user_pairs = []\n",
    "user_list = list(user_set)\n",
    "for x in range(len(user_list)):\n",
    "    for y in range(x + 1, len(user_list)):\n",
    "        user_pairs.append((user_list[x], user_list[y]))"
   ]
  },
  {
   "cell_type": "markdown",
   "metadata": {},
   "source": [
    "# Jaccard's Coefficient"
   ]
  },
  {
   "cell_type": "code",
   "execution_count": 5,
   "metadata": {},
   "outputs": [],
   "source": [
    "un_graph = di_graph.to_undirected()\n",
    "\n",
    "jaccard_result = []\n",
    "for pair in user_pairs:\n",
    "    u = pair[0]\n",
    "    v = pair[1]\n",
    "    u_set = set(nx.all_neighbors(un_graph, u))\n",
    "    v_set = set(nx.all_neighbors(un_graph, v))\n",
    "    # common set\n",
    "    uv_com_set = u_set.intersection(v_set)\n",
    "    # union set\n",
    "    uv_un_set = u_set.union(v_set)\n",
    "    jaccard_coef = 0\n",
    "    if len(uv_un_set) > 0:\n",
    "        jaccard_coef = len(uv_com_set) / len(uv_un_set)\n",
    "    if jaccard_coef > 0:\n",
    "        jaccard_result.append((u, v, jaccard_coef))"
   ]
  },
  {
   "cell_type": "markdown",
   "metadata": {},
   "source": [
    "#### ทำการเรียงค่า Jaccard Coefficient จากมากไปน้อย"
   ]
  },
  {
   "cell_type": "code",
   "execution_count": 6,
   "metadata": {},
   "outputs": [],
   "source": [
    "jaccard_result = sorted(jaccard_result, key=lambda x: x[2], reverse=True)"
   ]
  },
  {
   "cell_type": "markdown",
   "metadata": {},
   "source": [
    "# Prediction"
   ]
  },
  {
   "cell_type": "markdown",
   "metadata": {},
   "source": [
    "#### ทำการกำหนดค่า Threshold เพื่อนำค่า Jaccard Coefficient มาใช้ในการ Prediction"
   ]
  },
  {
   "cell_type": "code",
   "execution_count": 7,
   "metadata": {},
   "outputs": [],
   "source": [
    "# กำหนดค่า Threshold\n",
    "JACCARD_COEFFICIENT_THRESHOLD = 0.5\n",
    "flitered_jaccard_result = list(filter(lambda x: x [2] >= JACCARD_COEFFICIENT_THRESHOLD, jaccard_result))"
   ]
  },
  {
   "cell_type": "markdown",
   "metadata": {},
   "source": [
    "#### ทำการ Prediction โดยมีวิธีการดังนี้\n",
    "1. เริ่มต้นมีคู่ของผู้ใช้ u และ v\n",
    "2. หาเซ็ตของ Neighbors ของ u และ v\n",
    "3. นำเซ็ต Neighbors ของ u และ v มาทำการหา Intersection และ Union\n",
    "4. โดยเราจะทำการหา Prediction Topic ได้ดังนี้\n",
    "    1. กำหนดให้ U คือ Neighbors set ของ u\n",
    "    2. กำหนดให้ V คือ Neighbors set ของ v\n",
    "    3. กำหนดให้ (U intersection V) คือการทำ Intersection ระหว่างเซ็ต U และ V\n",
    "    4. กำหนดให้ (U union V) คือการทำ Union ระหว่างเซ็ต U และ V\n",
    "    5. กำหนดให้ (U - V) คือการทำ Difference ระหว่างเซ็ต U และ V\n",
    "5. เราจะสามารถหา Prediction Set ของคู่ u, v ใดๆได้จาก\n",
    "    1. Pred(U) = Pred(U) union ((U union V) - (U intersection V) - U) และ\n",
    "    2. Pred(V) = Pred(V) union ((U union V) - (U intersection V) - V)  \n",
    "    โดย Pred(U) คือ Prediction Set ของ u และ Pred(V) คือ Prediction Set ของ v"
   ]
  },
  {
   "cell_type": "code",
   "execution_count": 8,
   "metadata": {},
   "outputs": [],
   "source": [
    "user_topics_result = {}\n",
    "for data in flitered_jaccard_result:\n",
    "    u = data[0]\n",
    "    v = data[1]\n",
    "    if u not in user_topics_result:\n",
    "        user_topics_result[u] = set()\n",
    "    if v not in user_topics_result:\n",
    "        user_topics_result[v] = set()\n",
    "        \n",
    "    u_set = set(nx.all_neighbors(un_graph, u))\n",
    "    v_set = set(nx.all_neighbors(un_graph, v))\n",
    "    uv_com_set = u_set.intersection(v_set)\n",
    "    uv_un_set = u_set.union(v_set)\n",
    "    \n",
    "    un_dif_com = uv_un_set.difference(uv_com_set)\n",
    "    user_topics_result[u] = user_topics_result[u].union(un_dif_com.difference(u_set))\n",
    "    user_topics_result[v] = user_topics_result[v].union(un_dif_com.difference(v_set))"
   ]
  },
  {
   "cell_type": "markdown",
   "metadata": {},
   "source": [
    "# Result"
   ]
  },
  {
   "cell_type": "code",
   "execution_count": 31,
   "metadata": {},
   "outputs": [
    {
     "data": {
      "text/html": [
       "<div>\n",
       "<style scoped>\n",
       "    .dataframe tbody tr th:only-of-type {\n",
       "        vertical-align: middle;\n",
       "    }\n",
       "\n",
       "    .dataframe tbody tr th {\n",
       "        vertical-align: top;\n",
       "    }\n",
       "\n",
       "    .dataframe thead th {\n",
       "        text-align: right;\n",
       "    }\n",
       "</style>\n",
       "<table border=\"1\" class=\"dataframe\">\n",
       "  <thead>\n",
       "    <tr style=\"text-align: right;\">\n",
       "      <th></th>\n",
       "      <th>User</th>\n",
       "      <th>Prediction Topic</th>\n",
       "    </tr>\n",
       "  </thead>\n",
       "  <tbody>\n",
       "    <tr>\n",
       "      <th>0</th>\n",
       "      <td>olteszesbBJkh3g5q3j</td>\n",
       "      <td>[36894667]</td>\n",
       "    </tr>\n",
       "    <tr>\n",
       "      <th>1</th>\n",
       "      <td>oh2radjylBPW4Vduxt</td>\n",
       "      <td>[37700048]</td>\n",
       "    </tr>\n",
       "    <tr>\n",
       "      <th>2</th>\n",
       "      <td>oborxz90uMoIfuZQyvj</td>\n",
       "      <td>[38180035, 38173898, 38181846, 38179746, 38180...</td>\n",
       "    </tr>\n",
       "    <tr>\n",
       "      <th>3</th>\n",
       "      <td>pb8oxl3b5QQdNjSQD0D</td>\n",
       "      <td>[38167459, 38180035, 38180612, 38179746, 38180...</td>\n",
       "    </tr>\n",
       "    <tr>\n",
       "      <th>4</th>\n",
       "      <td>p363sjr6mdU7oi8LH8</td>\n",
       "      <td>[31177339, 35108592, 30769364, 36245659]</td>\n",
       "    </tr>\n",
       "    <tr>\n",
       "      <th>5</th>\n",
       "      <td>ozevb32vj5xsix6R3Ze</td>\n",
       "      <td>[36136603]</td>\n",
       "    </tr>\n",
       "    <tr>\n",
       "      <th>6</th>\n",
       "      <td>pgs5xc4l1w0koWc444Jv</td>\n",
       "      <td>[31440005, 36366065, 36583753, 31879007]</td>\n",
       "    </tr>\n",
       "    <tr>\n",
       "      <th>7</th>\n",
       "      <td>ozt5ze11ajWJAJYxtdfa</td>\n",
       "      <td>[30102456]</td>\n",
       "    </tr>\n",
       "    <tr>\n",
       "      <th>8</th>\n",
       "      <td>pfc1darm6XirR0T9NQw</td>\n",
       "      <td>[38180017, 38175922, 38175811, 38179553, 38178...</td>\n",
       "    </tr>\n",
       "    <tr>\n",
       "      <th>9</th>\n",
       "      <td>n5s9j7qbgrs23JMxpuK</td>\n",
       "      <td>[38186031, 38180017, 38175922, 38155859, 38169...</td>\n",
       "    </tr>\n",
       "    <tr>\n",
       "      <th>10</th>\n",
       "      <td>pgwckg3pd3zRh341PPIi</td>\n",
       "      <td>[36386170, 38166177, 38166121]</td>\n",
       "    </tr>\n",
       "    <tr>\n",
       "      <th>11</th>\n",
       "      <td>nkjl6j972BZq5RO2LRp</td>\n",
       "      <td>[33329584, 36531498]</td>\n",
       "    </tr>\n",
       "    <tr>\n",
       "      <th>12</th>\n",
       "      <td>payshh5nzI9CpU3BHSJ</td>\n",
       "      <td>[37957013, 37956320, 35593464, 34206190, 35476...</td>\n",
       "    </tr>\n",
       "    <tr>\n",
       "      <th>13</th>\n",
       "      <td>oy47yq5bwhLE9qt4db7</td>\n",
       "      <td>[37065460]</td>\n",
       "    </tr>\n",
       "    <tr>\n",
       "      <th>14</th>\n",
       "      <td>pbw6y94e8vflP40RdDh</td>\n",
       "      <td>[38180017, 38175922, 38155859, 38179553, 38180...</td>\n",
       "    </tr>\n",
       "    <tr>\n",
       "      <th>15</th>\n",
       "      <td>pgu81n4emOQp8RysdkF</td>\n",
       "      <td>[38179553, 38172968, 38180388, 38172159]</td>\n",
       "    </tr>\n",
       "    <tr>\n",
       "      <th>16</th>\n",
       "      <td>op8zb1sb7xD6x9h0CYd</td>\n",
       "      <td>[30079232, 31107325, 35417809, 35404600, 35724...</td>\n",
       "    </tr>\n",
       "    <tr>\n",
       "      <th>17</th>\n",
       "      <td>ogzhza7jhJsdoEWgcVj</td>\n",
       "      <td>[35398887, 36796687]</td>\n",
       "    </tr>\n",
       "    <tr>\n",
       "      <th>18</th>\n",
       "      <td>oa6p9saaa57rU7R7BNB</td>\n",
       "      <td>[36819746, 30900667, 31123126, 30447257]</td>\n",
       "    </tr>\n",
       "    <tr>\n",
       "      <th>19</th>\n",
       "      <td>pgxtfaltyDEVEQiWuE9</td>\n",
       "      <td>[37362428, 37473184]</td>\n",
       "    </tr>\n",
       "  </tbody>\n",
       "</table>\n",
       "</div>"
      ],
      "text/plain": [
       "                    User                                   Prediction Topic\n",
       "0    olteszesbBJkh3g5q3j                                         [36894667]\n",
       "1     oh2radjylBPW4Vduxt                                         [37700048]\n",
       "2    oborxz90uMoIfuZQyvj  [38180035, 38173898, 38181846, 38179746, 38180...\n",
       "3    pb8oxl3b5QQdNjSQD0D  [38167459, 38180035, 38180612, 38179746, 38180...\n",
       "4     p363sjr6mdU7oi8LH8           [31177339, 35108592, 30769364, 36245659]\n",
       "5    ozevb32vj5xsix6R3Ze                                         [36136603]\n",
       "6   pgs5xc4l1w0koWc444Jv           [31440005, 36366065, 36583753, 31879007]\n",
       "7   ozt5ze11ajWJAJYxtdfa                                         [30102456]\n",
       "8    pfc1darm6XirR0T9NQw  [38180017, 38175922, 38175811, 38179553, 38178...\n",
       "9    n5s9j7qbgrs23JMxpuK  [38186031, 38180017, 38175922, 38155859, 38169...\n",
       "10  pgwckg3pd3zRh341PPIi                     [36386170, 38166177, 38166121]\n",
       "11   nkjl6j972BZq5RO2LRp                               [33329584, 36531498]\n",
       "12   payshh5nzI9CpU3BHSJ  [37957013, 37956320, 35593464, 34206190, 35476...\n",
       "13   oy47yq5bwhLE9qt4db7                                         [37065460]\n",
       "14   pbw6y94e8vflP40RdDh  [38180017, 38175922, 38155859, 38179553, 38180...\n",
       "15   pgu81n4emOQp8RysdkF           [38179553, 38172968, 38180388, 38172159]\n",
       "16   op8zb1sb7xD6x9h0CYd  [30079232, 31107325, 35417809, 35404600, 35724...\n",
       "17   ogzhza7jhJsdoEWgcVj                               [35398887, 36796687]\n",
       "18   oa6p9saaa57rU7R7BNB           [36819746, 30900667, 31123126, 30447257]\n",
       "19   pgxtfaltyDEVEQiWuE9                               [37362428, 37473184]"
      ]
     },
     "execution_count": 31,
     "metadata": {},
     "output_type": "execute_result"
    }
   ],
   "source": [
    "result_df = pd.DataFrame(columns=[ 'User', 'Prediction Topic' ])\n",
    "for index, utr in enumerate(user_topics_result):\n",
    "    result_df.loc[index] = [ utr, list(user_topics_result[utr]) ]\n",
    "result_df.head(20)"
   ]
  },
  {
   "cell_type": "markdown",
   "metadata": {},
   "source": [
    "# View Prediction Infomation"
   ]
  },
  {
   "cell_type": "markdown",
   "metadata": {},
   "source": [
    "#### นำเข้าข้อมูลชื่อ Topic"
   ]
  },
  {
   "cell_type": "code",
   "execution_count": 34,
   "metadata": {},
   "outputs": [],
   "source": [
    "from pathlib import Path\n",
    "import json\n",
    "topics_title = {}\n",
    "path = Path('../data/processed_except/topics.json').resolve();\n",
    "with open(path, 'r', encoding='utf-8') as tf:\n",
    "    while True:\n",
    "        line = tf.readline()\n",
    "        if line == '':\n",
    "            break\n",
    "        cur_json = json.loads(line)\n",
    "        topics_title[cur_json['topic_id']] = cur_json['title']"
   ]
  },
  {
   "cell_type": "markdown",
   "metadata": {},
   "source": [
    "#### ดูกลุ่มของกระทู้ที่ผู้ใช้เข้าใช้งาน"
   ]
  },
  {
   "cell_type": "code",
   "execution_count": 38,
   "metadata": {},
   "outputs": [
    {
     "name": "stdout",
     "output_type": "stream",
     "text": [
      "32528975: [CR] พักผ่อนนอนชิลที่นี่ Lake Heaven เลคเฮฟเว่น - กาญจนบุรี\n",
      "34194241: [CR] @@ รีวิวรวม 5 ที่พัก กาญจนบุรี @@\n",
      "30856164: ^_^    ??? ใครเคยไปเที่ยว&quot;มัลดีฟเมืองไทย&quot;บ้างคะ ระหว่าง&quot;รักษ์น้ำ&quot;กับ&quot;เลค เฮฟเว่น&quot;ที่ไหนดี/เด่นกว่ากันตรงไหนอย่างไรคะ ???\n",
      "36386170: [CR] รีวิว ที่พักน่านอน ณ กาญจนบุรี\n",
      "33424402: [CR] ● มัลดีฟเมืองไทยกาญจนบุรี @ อนันตาริเวอร์ฮิลล์รีสอร์ท Ananta River Hills Resort (Chill Out อ้อ&amp;บอม)\n",
      "36201520: [CR] รักษ์น้ำรีสอร์ท (Ruk Nam Resort) at กาญจนบุรี by Iphone 7 plus\n",
      "38166121: เมียผมนั่งรถเข็นเที่ยวญี่ปุ่น ทำไมเด็กๆให้ความสนใจกันจัง?!?\n",
      "33006488: [CR] รักน้ำรีสอร์ทกับประสบการณ์แย่ๆที่เจอ\n",
      "34641122: [CR] Review---&gt;รักน้ำ รีสอร์ท@กาญนะจ้ะบุรี มัลดีฟของไทย&lt;---\n",
      "36252438: [CR] Review &quot;ที่พัก@กาญจนบุรี...รักษ์น้ำ รีสอร์ท&quot;\n",
      "38166177: Kbank คุณอาจทำให้ลูกค้าอย่างผมเลิกใช้  ก็เพราะเรื่องนี้แหล่ะ\n"
     ]
    }
   ],
   "source": [
    "USER = 'nkjl6j972BZq5RO2LRp'\n",
    "for x in set(nx.all_neighbors(un_graph, USER)):\n",
    "    print(\"%s: %s\" % (x, topics_title[x]))"
   ]
  },
  {
   "cell_type": "markdown",
   "metadata": {},
   "source": [
    "#### ดูกลุ่มของกระทู้ที่ทำการ Prediction\n"
   ]
  },
  {
   "cell_type": "code",
   "execution_count": 39,
   "metadata": {},
   "outputs": [
    {
     "name": "stdout",
     "output_type": "stream",
     "text": [
      "33329584: [CR] ไปครั้งแรกก็หลงรัก.......เดอะ ฟอร์ เรสท์ รีสอร์ท @กาญจนบุรี (รีวิว 2 วัน 1 คืน) รูปเยอะมากกกกก!!!\n",
      "36531498: ช่วยแนะนำที่พักแพริมน้ำกาญจนบุรีให้หน่อยครับ\n"
     ]
    }
   ],
   "source": [
    "for x in user_topics_result[USER]:\n",
    "    print(\"%s: %s\" % (x, topics_title[x]))"
   ]
  },
  {
   "cell_type": "code",
   "execution_count": null,
   "metadata": {},
   "outputs": [],
   "source": []
  }
 ],
 "metadata": {
  "kernelspec": {
   "display_name": "Python 3",
   "language": "python",
   "name": "python3"
  },
  "language_info": {
   "codemirror_mode": {
    "name": "ipython",
    "version": 3
   },
   "file_extension": ".py",
   "mimetype": "text/x-python",
   "name": "python",
   "nbconvert_exporter": "python",
   "pygments_lexer": "ipython3",
   "version": "3.7.1"
  }
 },
 "nbformat": 4,
 "nbformat_minor": 2
}
