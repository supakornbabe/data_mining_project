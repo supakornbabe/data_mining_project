{
 "cells": [
  {
   "cell_type": "code",
   "execution_count": 1,
   "metadata": {},
   "outputs": [],
   "source": [
    "import os\n",
    "import numpy as np\n",
    "import networkx as nx\n",
    "import matplotlib.pyplot as plt\n",
    "import pandas as pd\n",
    "\n",
    "%matplotlib inline"
   ]
  },
  {
   "cell_type": "markdown",
   "metadata": {},
   "source": [
    "# Import Graph Data"
   ]
  },
  {
   "cell_type": "code",
   "execution_count": 2,
   "metadata": {},
   "outputs": [],
   "source": [
    "from pathlib import Path\n",
    "\n",
    "path = Path('../data/processed_except/user_topic_filtered.csv').resolve();\n",
    "di_graph = nx.DiGraph()\n",
    "user_set = set()\n",
    "with open(path, 'r') as input_file:\n",
    "    # skip first line\n",
    "    line = input_file.readline().rstrip()\n",
    "    while True:\n",
    "        line = input_file.readline().rstrip()\n",
    "\n",
    "        # EOF\n",
    "        if line == '':\n",
    "            break\n",
    "\n",
    "        splits = line.split(',')\n",
    "        # prevent self-loop\n",
    "        if splits[0] != splits[1]:\n",
    "            user_set.add(splits[1])\n",
    "            di_graph.add_edge(splits[1], splits[0])"
   ]
  },
  {
   "cell_type": "markdown",
   "metadata": {},
   "source": [
    "#### จับคู่ User เพื่อทำการทดสอบค่า Jaccard Coefficient"
   ]
  },
  {
   "cell_type": "code",
   "execution_count": 3,
   "metadata": {},
   "outputs": [],
   "source": [
    "user_pairs = []\n",
    "user_list = list(user_set)\n",
    "for x in range(len(user_list)):\n",
    "    for y in range(x + 1, len(user_list)):\n",
    "        user_pairs.append((user_list[x], user_list[y]))"
   ]
  },
  {
   "cell_type": "markdown",
   "metadata": {},
   "source": [
    "# Jaccard's Coefficient"
   ]
  },
  {
   "cell_type": "code",
   "execution_count": 4,
   "metadata": {},
   "outputs": [],
   "source": [
    "un_graph = di_graph.to_undirected()\n",
    "\n",
    "jaccard_result = []\n",
    "for pair in user_pairs:\n",
    "    u = pair[0]\n",
    "    v = pair[1]\n",
    "    u_set = set(nx.all_neighbors(un_graph, u))\n",
    "    v_set = set(nx.all_neighbors(un_graph, v))\n",
    "    # common set\n",
    "    uv_com_set = u_set.intersection(v_set)\n",
    "    # union set\n",
    "    uv_un_set = u_set.union(v_set)\n",
    "    jaccard_coef = 0\n",
    "    if len(uv_un_set) > 0:\n",
    "        jaccard_coef = len(uv_com_set) / len(uv_un_set)\n",
    "    if jaccard_coef > 0:\n",
    "        jaccard_result.append((u, v, jaccard_coef))"
   ]
  },
  {
   "cell_type": "markdown",
   "metadata": {},
   "source": [
    "#### ทำการเรียงค่า Jaccard Coefficient จากมากไปน้อย"
   ]
  },
  {
   "cell_type": "code",
   "execution_count": 5,
   "metadata": {},
   "outputs": [],
   "source": [
    "jaccard_result = sorted(jaccard_result, key=lambda x: x[2], reverse=True)"
   ]
  },
  {
   "cell_type": "markdown",
   "metadata": {},
   "source": [
    "# Prediction"
   ]
  },
  {
   "cell_type": "markdown",
   "metadata": {},
   "source": [
    "#### ทำการกำหนดค่า Threshold เพื่อนำค่า Jaccard Coefficient มาใช้ในการ Prediction"
   ]
  },
  {
   "cell_type": "code",
   "execution_count": 6,
   "metadata": {},
   "outputs": [],
   "source": [
    "# กำหนดค่า Threshold\n",
    "JACCARD_COEFFICIENT_THRESHOLD = 0.5\n",
    "flitered_jaccard_result = list(filter(lambda x: x [2] >= JACCARD_COEFFICIENT_THRESHOLD, jaccard_result))"
   ]
  },
  {
   "cell_type": "markdown",
   "metadata": {},
   "source": [
    "#### ทำการ Prediction โดยมีวิธีการดังนี้\n",
    "1. เริ่มต้นมีคู่ของผู้ใช้ u และ v\n",
    "2. หาเซ็ตของ Neighbors ของ u และ v\n",
    "3. นำเซ็ต Neighbors ของ u และ v มาทำการหา Intersection และ Union\n",
    "4. โดยเราจะทำการหา Prediction Topic ได้ดังนี้\n",
    "    1. กำหนดให้ U คือ Neighbors set ของ u\n",
    "    2. กำหนดให้ V คือ Neighbors set ของ v\n",
    "    3. กำหนดให้ (U intersection V) คือการทำ Intersection ระหว่างเซ็ต U และ V\n",
    "    4. กำหนดให้ (U union V) คือการทำ Union ระหว่างเซ็ต U และ V\n",
    "    5. กำหนดให้ (U - V) คือการทำ Difference ระหว่างเซ็ต U และ V\n",
    "5. เราจะสามารถหา Prediction Set ของคู่ u, v ใดๆได้จาก\n",
    "    1. Pred(U) = Pred(U) union ((U union V) - (U intersection V) - U) และ\n",
    "    2. Pred(V) = Pred(V) union ((U union V) - (U intersection V) - V)  \n",
    "    โดย Pred(U) คือ Prediction Set ของ u และ Pred(V) คือ Prediction Set ของ v"
   ]
  },
  {
   "cell_type": "code",
   "execution_count": 7,
   "metadata": {},
   "outputs": [],
   "source": [
    "user_topics_result = {}\n",
    "for data in flitered_jaccard_result:\n",
    "    u = data[0]\n",
    "    v = data[1]\n",
    "    if u not in user_topics_result:\n",
    "        user_topics_result[u] = set()\n",
    "    if v not in user_topics_result:\n",
    "        user_topics_result[v] = set()\n",
    "        \n",
    "    u_set = set(nx.all_neighbors(un_graph, u))\n",
    "    v_set = set(nx.all_neighbors(un_graph, v))\n",
    "    uv_com_set = u_set.intersection(v_set)\n",
    "    uv_un_set = u_set.union(v_set)\n",
    "    \n",
    "    un_dif_com = uv_un_set.difference(uv_com_set)\n",
    "    user_topics_result[u] = user_topics_result[u].union(un_dif_com.difference(u_set))\n",
    "    user_topics_result[v] = user_topics_result[v].union(un_dif_com.difference(v_set))"
   ]
  },
  {
   "cell_type": "markdown",
   "metadata": {},
   "source": [
    "# Result"
   ]
  },
  {
   "cell_type": "code",
   "execution_count": 9,
   "metadata": {},
   "outputs": [
    {
     "data": {
      "text/html": [
       "<div>\n",
       "<style scoped>\n",
       "    .dataframe tbody tr th:only-of-type {\n",
       "        vertical-align: middle;\n",
       "    }\n",
       "\n",
       "    .dataframe tbody tr th {\n",
       "        vertical-align: top;\n",
       "    }\n",
       "\n",
       "    .dataframe thead th {\n",
       "        text-align: right;\n",
       "    }\n",
       "</style>\n",
       "<table border=\"1\" class=\"dataframe\">\n",
       "  <thead>\n",
       "    <tr style=\"text-align: right;\">\n",
       "      <th></th>\n",
       "      <th>User</th>\n",
       "      <th>Prediction Topic</th>\n",
       "    </tr>\n",
       "  </thead>\n",
       "  <tbody>\n",
       "    <tr>\n",
       "      <th>0</th>\n",
       "      <td>oh2radjylBPW4Vduxt</td>\n",
       "      <td>[37700048]</td>\n",
       "    </tr>\n",
       "    <tr>\n",
       "      <th>1</th>\n",
       "      <td>olteszesbBJkh3g5q3j</td>\n",
       "      <td>[36894667]</td>\n",
       "    </tr>\n",
       "    <tr>\n",
       "      <th>2</th>\n",
       "      <td>pb8oxl3b5QQdNjSQD0D</td>\n",
       "      <td>[38179746, 38180028, 38167459, 38180612, 38177...</td>\n",
       "    </tr>\n",
       "    <tr>\n",
       "      <th>3</th>\n",
       "      <td>oborxz90uMoIfuZQyvj</td>\n",
       "      <td>[38181846, 38179746, 38180028, 38181711, 38178...</td>\n",
       "    </tr>\n",
       "    <tr>\n",
       "      <th>4</th>\n",
       "      <td>ozevb32vj5xsix6R3Ze</td>\n",
       "      <td>[36136603]</td>\n",
       "    </tr>\n",
       "    <tr>\n",
       "      <th>5</th>\n",
       "      <td>p363sjr6mdU7oi8LH8</td>\n",
       "      <td>[31177339, 36245659, 35108592, 30769364]</td>\n",
       "    </tr>\n",
       "    <tr>\n",
       "      <th>6</th>\n",
       "      <td>pgs5xc4l1w0koWc444Jv</td>\n",
       "      <td>[36583753, 31879007, 31440005, 36366065]</td>\n",
       "    </tr>\n",
       "    <tr>\n",
       "      <th>7</th>\n",
       "      <td>ozt5ze11ajWJAJYxtdfa</td>\n",
       "      <td>[30102456]</td>\n",
       "    </tr>\n",
       "    <tr>\n",
       "      <th>8</th>\n",
       "      <td>pgwckg3pd3zRh341PPIi</td>\n",
       "      <td>[38166121, 36386170, 38166177]</td>\n",
       "    </tr>\n",
       "    <tr>\n",
       "      <th>9</th>\n",
       "      <td>nkjl6j972BZq5RO2LRp</td>\n",
       "      <td>[36531498, 33329584]</td>\n",
       "    </tr>\n",
       "  </tbody>\n",
       "</table>\n",
       "</div>"
      ],
      "text/plain": [
       "                   User                                   Prediction Topic\n",
       "0    oh2radjylBPW4Vduxt                                         [37700048]\n",
       "1   olteszesbBJkh3g5q3j                                         [36894667]\n",
       "2   pb8oxl3b5QQdNjSQD0D  [38179746, 38180028, 38167459, 38180612, 38177...\n",
       "3   oborxz90uMoIfuZQyvj  [38181846, 38179746, 38180028, 38181711, 38178...\n",
       "4   ozevb32vj5xsix6R3Ze                                         [36136603]\n",
       "5    p363sjr6mdU7oi8LH8           [31177339, 36245659, 35108592, 30769364]\n",
       "6  pgs5xc4l1w0koWc444Jv           [36583753, 31879007, 31440005, 36366065]\n",
       "7  ozt5ze11ajWJAJYxtdfa                                         [30102456]\n",
       "8  pgwckg3pd3zRh341PPIi                     [38166121, 36386170, 38166177]\n",
       "9   nkjl6j972BZq5RO2LRp                               [36531498, 33329584]"
      ]
     },
     "execution_count": 9,
     "metadata": {},
     "output_type": "execute_result"
    }
   ],
   "source": [
    "result_df = pd.DataFrame(columns=[ 'User', 'Prediction Topic' ])\n",
    "for index, utr in enumerate(user_topics_result):\n",
    "    result_df.loc[index] = [ utr, list(user_topics_result[utr]) ]\n",
    "result_df.head(10)"
   ]
  },
  {
   "cell_type": "code",
   "execution_count": null,
   "metadata": {},
   "outputs": [],
   "source": []
  }
 ],
 "metadata": {
  "kernelspec": {
   "display_name": "Python 3",
   "language": "python",
   "name": "python3"
  },
  "language_info": {
   "codemirror_mode": {
    "name": "ipython",
    "version": 3
   },
   "file_extension": ".py",
   "mimetype": "text/x-python",
   "name": "python",
   "nbconvert_exporter": "python",
   "pygments_lexer": "ipython3",
   "version": "3.7.3"
  }
 },
 "nbformat": 4,
 "nbformat_minor": 2
}
