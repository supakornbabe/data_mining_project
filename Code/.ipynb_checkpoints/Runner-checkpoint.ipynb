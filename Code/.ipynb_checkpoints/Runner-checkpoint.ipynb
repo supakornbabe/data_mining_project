{
 "cells": [
  {
   "cell_type": "code",
   "execution_count": 1,
   "metadata": {},
   "outputs": [],
   "source": [
    "import json\n",
    "import os\n"
   ]
  },
  {
   "cell_type": "code",
   "execution_count": 18,
   "metadata": {},
   "outputs": [
    {
     "name": "stdout",
     "output_type": "stream",
     "text": [
      "[{'topic_id': '34557421', 'comment_id': '0', 'device': 'mobile', 'browser': 'Chrome 63', 'os': 'Linux', 'referrer': 'https://m.pantip.com/topic/35907424?', 'rooms': ['ratchada', 'region', 'blueplanet'], 'tags': ['มอเตอร์ไซค์', 'จังหวัดนครราชสีมา', 'เที่ยวไทย'], 'mid': 0, 'tc': 'pgkq1k689gJYQS1KBH2p', 'updated_time': 1539536399923}, {'topic_id': '34105288', 'comment_id': '0', 'device': 'mobile', 'browser': 'Safari 11', 'os': 'MacOS', 'referrer': 'https://www.google.co.th/', 'rooms': ['gallery', 'region', 'blueplanet'], 'tags': ['ภาพถ่าย', 'ภาพถ่ายทิวทัศน์', 'จังหวัดภูเก็ต', 'บันทึกนักเดินทาง', 'เที่ยวทะเล'], 'mid': 0, 'tc': 'pgji7n5zt0R9gtWUdta7', 'updated_time': 1539536399938}, {'topic_id': '32903224', 'comment_id': '0', 'device': 'desktop', 'browser': 'Chrome 69', 'os': 'Windows', 'referrer': 'https://www.google.co.th/', 'rooms': ['blueplanet'], 'tags': ['เที่ยวต่างประเทศ', 'งานไทยเที่ยวไทย', 'Online Travel Agency', 'บันทึกนักเดินทาง', 'ประเทศเกาหลีใต้'], 'mid': '0', 'tc': 'p9snw7saj1UQToavitI', 'updated_time': '1539536400008'}, {'topic_id': '32101349', 'comment_id': '0', 'device': 'mobile', 'browser': 'Safari 11', 'os': 'MacOS', 'referrer': 'https://www.google.co.th/', 'rooms': ['blueplanet'], 'tags': ['โรงแรมรีสอร์ท', 'บันทึกนักเดินทาง', 'เที่ยวไทย'], 'mid': 0, 'tc': 'p0mns93e5', 'updated_time': 1539536400106}, {'topic_id': '34420392', 'comment_id': '0', 'device': 'mobile', 'browser': 'Safari 12', 'os': 'MacOS', 'referrer': 'https://www.google.co.th/', 'rooms': ['blueplanet', 'food', 'gallery'], 'tags': ['เที่ยวตลาดน้ำ', 'บันทึกนักเดินทาง', 'เที่ยวไทย', 'อาหารไทย', 'ภาพถ่าย'], 'mid': 0, 'tc': 'pger2o473hOIaLCIJ50', 'updated_time': 1539536400154}, {'topic_id': '30060428', 'comment_id': '0', 'device': 'mobile', 'browser': 'Safari 12', 'os': 'MacOS', 'referrer': 'https://www.google.co.th/', 'rooms': ['blueplanet'], 'tags': ['Backpack', 'งานไทยเที่ยวไทย', 'เที่ยวทะเล', 'เที่ยวไทย'], 'mid': 0, 'tc': 'pco1pd1hb1Oo6502ELY', 'updated_time': 1539536400321}, {'topic_id': '37238609', 'comment_id': '0', 'device': 'mobile', 'browser': 'Chrome 69', 'os': 'Linux', 'referrer': 'https://www.google.co.th/', 'rooms': ['region', 'ratchada', 'blueplanet'], 'tags': ['จังหวัดนครปฐม', 'รถโดยสารประจำทาง', 'รถโดยสาร', 'รถตู้โดยสารประจำทาง', 'รถตู้โดยสาร'], 'mid': 0, 'tc': 'pgizsh5zs8N90vQR9rMc', 'updated_time': 1539536400338}, {'topic_id': '37592021', 'comment_id': '0', 'device': 'desktop', 'browser': 'Chrome 69', 'os': 'Windows', 'referrer': 'https://www.google.co.th/', 'rooms': ['klaibann', 'silom'], 'tags': ['ชีวิตในต่างแดน', 'มนุษย์เงินเดือน', 'งานสายการบิน'], 'mid': '0', 'tc': 'pec13wbpwPJAzw3Hiru', 'updated_time': '1539536400330'}, {'topic_id': '33806650', 'comment_id': '0', 'device': 'mobile', 'browser': 'Safari 12', 'os': 'MacOS', 'referrer': 'https://www.google.co.th/', 'rooms': ['klaibann'], 'tags': ['คนไทยในเกาหลี'], 'mid': 0, 'tc': 'p6et5f170X0uW3zeZSG', 'updated_time': 1539536400418}, {'topic_id': '33808598', 'comment_id': '0', 'device': 'mobile', 'browser': 'Chrome 69', 'os': 'Linux', 'referrer': 'https://www.google.com.sg/', 'rooms': ['blueplanet'], 'tags': ['สนามบิน', 'รถโดยสาร', 'เที่ยวต่างประเทศ', 'Online Travel Agency', 'Backpack'], 'mid': 0, 'tc': 'owvqt4fbs1guAgsc7A9', 'updated_time': 1539536400400}]\n"
     ]
    }
   ],
   "source": [
    "file_list=os.listdir(\"../Data\")\n",
    "\n",
    "fo = open(\"../Data/ptlog_sample.json\", \"r\")\n",
    "data_store=[]\n",
    "for line in fo:\n",
    "    line = line.replace(\"\\'\", \"\\\"\")\n",
    "    data_store.append(json.loads(line))\n",
    "\n",
    "    "
   ]
  },
  {
   "cell_type": "code",
   "execution_count": null,
   "metadata": {},
   "outputs": [],
   "source": []
  }
 ],
 "metadata": {
  "kernelspec": {
   "display_name": "Python 3",
   "language": "python",
   "name": "python3"
  },
  "language_info": {
   "codemirror_mode": {
    "name": "ipython",
    "version": 3
   },
   "file_extension": ".py",
   "mimetype": "text/x-python",
   "name": "python",
   "nbconvert_exporter": "python",
   "pygments_lexer": "ipython3",
   "version": "3.6.8"
  }
 },
 "nbformat": 4,
 "nbformat_minor": 2
}
